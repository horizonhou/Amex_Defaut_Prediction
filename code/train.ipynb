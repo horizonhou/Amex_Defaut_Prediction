{
 "cells": [
  {
   "cell_type": "code",
   "execution_count": 33,
   "metadata": {},
   "outputs": [],
   "source": [
    "import numpy as np\n",
    "import pandas as pd\n",
    "from sklearn.model_selection import cross_val_score, GridSearchCV\n",
    "from sklearn.linear_model import LogisticRegression\n",
    "from sklearn.ensemble import RandomForestClassifier, GradientBoostingClassifier, AdaBoostClassifier\n",
    "from sklearn.metrics import balanced_accuracy_score\n",
    "from sklearn.decomposition import PCA\n",
    "from xgboost import XGBClassifier\n",
    "from sklearn.tree import DecisionTreeClassifier\n",
    "from sklearn.model_selection import validation_curve\n",
    "from matplotlib import pyplot as plt\n",
    "from sklearn.preprocessing import StandardScaler\n",
    "from sklearn.neural_network import MLPClassifier"
   ]
  },
  {
   "cell_type": "markdown",
   "metadata": {},
   "source": [
    "## 1. Load train and test data from pickle"
   ]
  },
  {
   "cell_type": "code",
   "execution_count": 2,
   "metadata": {},
   "outputs": [],
   "source": [
    "train = pd.read_pickle('../data/train.pkl')\n",
    "test = pd.read_pickle('../data/test.pkl')"
   ]
  },
  {
   "cell_type": "markdown",
   "metadata": {},
   "source": [
    "Drop the features not in the intersection set of train and test data. Drop the date column ('S_2')."
   ]
  },
  {
   "cell_type": "code",
   "execution_count": 3,
   "metadata": {},
   "outputs": [],
   "source": [
    "train_to_drop_cols = [col for col in np.setdiff1d(train.columns.to_numpy(), test.columns.to_numpy()) if col != 'target']\n",
    "test_to_drop_cols = np.setdiff1d(test.columns.to_numpy(), train.columns.to_numpy())\n",
    "\n",
    "train.drop(columns=train_to_drop_cols, inplace=True)\n",
    "test.drop(columns=test_to_drop_cols, inplace=True)\n",
    "\n",
    "train.drop('S_2', axis=1, inplace=True)\n",
    "test.drop('S_2', axis=1, inplace=True)\n",
    "\n",
    "assert train.shape[1] == test.shape[1]+1"
   ]
  },
  {
   "cell_type": "markdown",
   "metadata": {},
   "source": [
    "Drop customers that have less than n=13 rows"
   ]
  },
  {
   "cell_type": "code",
   "execution_count": 4,
   "metadata": {},
   "outputs": [],
   "source": [
    "train = train[train.groupby('customer_ID')['customer_ID'].transform('count').ge(13)]\n",
    "test = test[test.groupby('customer_ID')['customer_ID'].transform('count').ge(13)]"
   ]
  },
  {
   "cell_type": "markdown",
   "metadata": {},
   "source": [
    "Separate X and y"
   ]
  },
  {
   "cell_type": "code",
   "execution_count": 5,
   "metadata": {},
   "outputs": [],
   "source": [
    "train_X, train_Y = train.loc[:, train.columns!='target'], np.ravel(train[['customer_ID', 'target']].groupby('customer_ID').max())\n",
    "\n",
    "assert train_X.shape == (train.shape[0], train.shape[1]-1)\n",
    "assert train_Y.shape == (len(set(train['customer_ID'])),)"
   ]
  },
  {
   "cell_type": "markdown",
   "metadata": {},
   "source": [
    "Aggregate features"
   ]
  },
  {
   "cell_type": "code",
   "execution_count": 6,
   "metadata": {},
   "outputs": [],
   "source": [
    "CATEGORICAL_COLS = ['B_30', 'B_38', 'D_114', 'D_116', 'D_117', 'D_120', 'D_126', 'D_63', 'D_64', 'D_66', 'D_68']\n",
    "NUMERICAL_COLS = [col for col in train_X.columns if col not in CATEGORICAL_COLS]\n",
    "\n",
    "agg_features = ['mean', 'std', 'max', 'min']"
   ]
  },
  {
   "cell_type": "code",
   "execution_count": 7,
   "metadata": {},
   "outputs": [],
   "source": [
    "train_X = train_X.groupby('customer_ID')[NUMERICAL_COLS].agg(agg_features)\n",
    "train_X.columns = list(map('_'.join, train_X.columns.values))\n",
    "\n",
    "test_X = test.groupby('customer_ID')[NUMERICAL_COLS].agg(agg_features)\n",
    "test_X.columns = list(map('_'.join, test_X.columns.values))\n",
    "\n",
    "assert train_X.shape[0] == train_Y.shape[0]\n",
    "assert train_X.columns.tolist() == test_X.columns.tolist()\n",
    "assert train_X.columns[train_X.isna().any()].tolist() == []\n",
    "assert test_X.columns[test_X.isna().any()].tolist() == []"
   ]
  },
  {
   "cell_type": "markdown",
   "metadata": {},
   "source": [
    "## 2. Feature Selection"
   ]
  },
  {
   "cell_type": "code",
   "execution_count": 10,
   "metadata": {},
   "outputs": [
    {
     "data": {
      "text/plain": [
       "(386034, 520)"
      ]
     },
     "execution_count": 10,
     "metadata": {},
     "output_type": "execute_result"
    }
   ],
   "source": [
    "train_X.shape"
   ]
  },
  {
   "cell_type": "code",
   "execution_count": 9,
   "metadata": {},
   "outputs": [],
   "source": [
    "scaler = StandardScaler()\n",
    "train_X = scaler.fit_transform(train_X)\n",
    "test_X = scaler.transform(test_X)"
   ]
  },
  {
   "cell_type": "code",
   "execution_count": 13,
   "metadata": {},
   "outputs": [
    {
     "name": "stdout",
     "output_type": "stream",
     "text": [
      "Explained Var Ratio: 0.9036673408552985\n"
     ]
    }
   ],
   "source": [
    "pca = PCA(n_components=150)\n",
    "train_X = pca.fit_transform(train_X)\n",
    "test_X = pca.transform(test_X)\n",
    "\n",
    "assert train_X.shape[1] == test_X.shape[1]\n",
    "\n",
    "print('Explained Var Ratio:', sum(pca.explained_variance_ratio_))"
   ]
  },
  {
   "cell_type": "markdown",
   "metadata": {},
   "source": [
    "## 3. Training"
   ]
  },
  {
   "cell_type": "code",
   "execution_count": 14,
   "metadata": {},
   "outputs": [],
   "source": [
    "def train_and_cv(model, n_fold=3):\n",
    "  cv_score = np.mean(cross_val_score(model, train_X, train_Y, scoring='balanced_accuracy', cv=n_fold, n_jobs=-1))\n",
    "\n",
    "  model.fit(train_X, train_Y)\n",
    "  train_score = balanced_accuracy_score(train_Y, model.predict(train_X))\n",
    "\n",
    "  print('train score: {0}, cross_val score: {1}'.format(train_score, cv_score))"
   ]
  },
  {
   "cell_type": "code",
   "execution_count": 27,
   "metadata": {},
   "outputs": [],
   "source": [
    "def tune_hyper(model, model_name, param, p_range):\n",
    "  train_scores, test_scores = validation_curve(model, train_X, train_Y, param_name=param, param_range=p_range, cv=3, scoring=\"balanced_accuracy\", n_jobs=-1)\n",
    "  train_mean = np.mean(train_scores, axis=1)\n",
    "  train_std = np.std(train_scores, axis=1)\n",
    "  test_mean = np.mean(test_scores, axis=1)\n",
    "  test_std = np.std(test_scores, axis=1)\n",
    "\n",
    "  plt.title('Validation Curve with {0}'.format(model_name))\n",
    "  plt.xlabel(param)\n",
    "  plt.ylabel(\"balanced_accuracy\")\n",
    "  plt.ylim(0.0, 1.1)\n",
    "\n",
    "  plt.plot(p_range, train_mean, label=\"Train acc\", color=\"darkorange\")\n",
    "  plt.fill_between(p_range, train_mean-train_std, train_mean+train_std, alpha=0.2, color=\"darkorange\")\n",
    "  plt.plot(p_range, test_mean, label=\"Val acc\", color=\"navy\")\n",
    "  plt.fill_between(p_range, test_mean-test_std, test_mean+test_std, alpha=0.2, color=\"navy\")\n",
    "  plt.legend(loc=\"best\")\n",
    "\n",
    "  print(train_mean)\n",
    "  print(test_mean)"
   ]
  },
  {
   "cell_type": "code",
   "execution_count": null,
   "metadata": {},
   "outputs": [],
   "source": [
    "def grid_search(model, param_space):\n",
    "  GridSearchCV(model, param_space, n_jobs=-1, cv=3, scoring=\"balanced_accuracy\")"
   ]
  },
  {
   "cell_type": "markdown",
   "metadata": {},
   "source": [
    "### 3.1. Baseline models"
   ]
  },
  {
   "cell_type": "markdown",
   "metadata": {},
   "source": [
    "#### 3.1.a. Logistic Regression"
   ]
  },
  {
   "cell_type": "code",
   "execution_count": 16,
   "metadata": {},
   "outputs": [
    {
     "name": "stdout",
     "output_type": "stream",
     "text": [
      "train score: 0.8432665061695632, cross-val score: 0.8429986210628929\n"
     ]
    }
   ],
   "source": [
    "train_and_cv(LogisticRegression(max_iter=500, n_jobs=-1))"
   ]
  },
  {
   "cell_type": "markdown",
   "metadata": {},
   "source": [
    "#### 3.1.b. Decision Tree"
   ]
  },
  {
   "cell_type": "code",
   "execution_count": 28,
   "metadata": {},
   "outputs": [
    {
     "name": "stdout",
     "output_type": "stream",
     "text": [
      "[0.84615937 0.82575573 0.86790182 0.94581476 0.98153671 0.99119527]\n",
      "[0.84597514 0.82317787 0.8203283  0.80233246 0.79102786 0.78535988]\n"
     ]
    },
    {
     "data": {
      "image/png": "[encoded data removed]",
      "text/plain": [
       "<Figure size 432x288 with 1 Axes>"
      ]
     },
     "metadata": {
      "needs_background": "light"
     },
     "output_type": "display_data"
    }
   ],
   "source": [
    "tune_hyper(DecisionTreeClassifier(), 'decision tree', 'max_depth', range(1, 31, 5))"
   ]
  },
  {
   "cell_type": "code",
   "execution_count": 59,
   "metadata": {},
   "outputs": [
    {
     "name": "stdout",
     "output_type": "stream",
     "text": [
      "train score: 0.8210066405409503, val score: 0.8160797277897157\n"
     ]
    }
   ],
   "source": [
    "train_and_cv(DecisionTreeClassifier(max_depth=6))"
   ]
  },
  {
   "cell_type": "markdown",
   "metadata": {},
   "source": [
    "### 3.2. Ensemble models"
   ]
  },
  {
   "cell_type": "markdown",
   "metadata": {},
   "source": [
    "#### 3.2.a. Random Forest"
   ]
  },
  {
   "cell_type": "code",
   "execution_count": 29,
   "metadata": {},
   "outputs": [
    {
     "name": "stdout",
     "output_type": "stream",
     "text": [
      "[0.49999916 0.745015   0.84480437 0.92320522 0.96756894 0.98332551]\n",
      "[0.50000559 0.74129267 0.81995399 0.83653084 0.84171807 0.84337418]\n"
     ]
    },
    {
     "data": {
      "image/png": "[encoded data removed]",
      "text/plain": [
       "<Figure size 432x288 with 1 Axes>"
      ]
     },
     "metadata": {
      "needs_background": "light"
     },
     "output_type": "display_data"
    }
   ],
   "source": [
    "tune_hyper(RandomForestClassifier(n_jobs=-1), 'randome forest', 'max_depth', range(1, 31, 5))"
   ]
  },
  {
   "cell_type": "code",
   "execution_count": 23,
   "metadata": {},
   "outputs": [
    {
     "name": "stdout",
     "output_type": "stream",
     "text": [
      "[0.9996721  0.99997206 0.99999721 1.         1.        ]\n",
      "[0.83815956 0.84372833 0.84591167 0.84633656 0.84710553]\n"
     ]
    },
    {
     "data": {
      "image/png": "[encoded data removed]",
      "text/plain": [
       "<Figure size 432x288 with 1 Axes>"
      ]
     },
     "metadata": {
      "needs_background": "light"
     },
     "output_type": "display_data"
    }
   ],
   "source": [
    "tune_hyper(RandomForestClassifier(n_jobs=-1), 'randome forest', 'n_estimators', range(50, 300, 50))"
   ]
  },
  {
   "cell_type": "code",
   "execution_count": 31,
   "metadata": {},
   "outputs": [
    {
     "name": "stdout",
     "output_type": "stream",
     "text": [
      "train score: 0.8267057450095505, cross-val score: 0.8126864577413345\n"
     ]
    }
   ],
   "source": [
    "train_and_cv(RandomForestClassifier(max_depth=10, n_jobs=-1))"
   ]
  },
  {
   "cell_type": "markdown",
   "metadata": {},
   "source": [
    "#### 3.2.b. Gradient boosting"
   ]
  },
  {
   "cell_type": "code",
   "execution_count": 37,
   "metadata": {},
   "outputs": [
    {
     "name": "stdout",
     "output_type": "stream",
     "text": [
      "[0.82415723 0.87033753 0.98061674]\n",
      "[0.82314256 0.85199491 0.85057297]\n"
     ]
    },
    {
     "data": {
      "image/png": "[encoded data removed]",
      "text/plain": [
       "<Figure size 432x288 with 1 Axes>"
      ]
     },
     "metadata": {
      "needs_background": "light"
     },
     "output_type": "display_data"
    }
   ],
   "source": [
    "tune_hyper(GradientBoostingClassifier(), 'gradient boosting', 'max_depth', range(1, 16, 5))"
   ]
  },
  {
   "cell_type": "code",
   "execution_count": null,
   "metadata": {},
   "outputs": [
    {
     "name": "stdout",
     "output_type": "stream",
     "text": [
      "[0.82286142 0.82952423 0.83256292 0.83447604 0.83600778 0.83719141]\n",
      "[0.82155496 0.82751141 0.83016327 0.8316329  0.83248049 0.8333335 ]\n"
     ]
    },
    {
     "data": {
      "image/png": "[encoded data removed]",
      "text/plain": [
       "<Figure size 432x288 with 1 Axes>"
      ]
     },
     "metadata": {
      "needs_background": "light"
     },
     "output_type": "display_data"
    }
   ],
   "source": [
    "tune_hyper(GradientBoostingClassifier(), 'gradient boosting', 'n_estimators', range(50, 301, 50))"
   ]
  },
  {
   "cell_type": "code",
   "execution_count": null,
   "metadata": {},
   "outputs": [
    {
     "name": "stdout",
     "output_type": "stream",
     "text": [
      "[0.82295606 0.82952423 0.83773202]\n",
      "[0.8215064  0.82751141 0.8322451 ]\n"
     ]
    },
    {
     "data": {
      "image/png": "[encoded data removed]",
      "text/plain": [
       "<Figure size 432x288 with 1 Axes>"
      ]
     },
     "metadata": {
      "needs_background": "light"
     },
     "output_type": "display_data"
    }
   ],
   "source": [
    "tune_hyper(GradientBoostingClassifier(), 'gradient boosting', 'learning_rate', [0.05, 0.1, 0.5])"
   ]
  },
  {
   "cell_type": "code",
   "execution_count": 77,
   "metadata": {},
   "outputs": [
    {
     "name": "stdout",
     "output_type": "stream",
     "text": [
      "train score: 0.8464813674590892, val score: 0.8368470426479965\n"
     ]
    }
   ],
   "source": [
    "train_and_cv(GradientBoostingClassifier(max_depth=6))"
   ]
  },
  {
   "cell_type": "markdown",
   "metadata": {},
   "source": [
    "#### 3.2.c. Adaboost"
   ]
  },
  {
   "cell_type": "code",
   "execution_count": null,
   "metadata": {},
   "outputs": [
    {
     "name": "stdout",
     "output_type": "stream",
     "text": [
      "[0.80629821 0.81195014 0.81494776 0.81709099]\n",
      "[0.80565337 0.81114462 0.81365218 0.81590863]\n"
     ]
    },
    {
     "data": {
      "image/png": "[encoded data removed]",
      "text/plain": [
       "<Figure size 432x288 with 1 Axes>"
      ]
     },
     "metadata": {
      "needs_background": "light"
     },
     "output_type": "display_data"
    }
   ],
   "source": [
    "tune_hyper(AdaBoostClassifier(), 'adaboost', 'n_estimators', range(30, 100, 20))"
   ]
  },
  {
   "cell_type": "code",
   "execution_count": null,
   "metadata": {},
   "outputs": [
    {
     "name": "stdout",
     "output_type": "stream",
     "text": [
      "[0.7581959  0.78513617 0.81150276]\n",
      "[0.75785706 0.78445147 0.81058039]\n"
     ]
    },
    {
     "data": {
      "image/png": "[encoded data removed]",
      "text/plain": [
       "<Figure size 432x288 with 1 Axes>"
      ]
     },
     "metadata": {
      "needs_background": "light"
     },
     "output_type": "display_data"
    }
   ],
   "source": [
    "tune_hyper(AdaBoostClassifier(), 'adaboost', 'learning_rate', [0.05, 0.1, 0.5])"
   ]
  },
  {
   "cell_type": "code",
   "execution_count": 35,
   "metadata": {},
   "outputs": [
    {
     "name": "stdout",
     "output_type": "stream",
     "text": [
      "train score: 0.831821345072637, cross-val score: 0.8313849062473567\n"
     ]
    }
   ],
   "source": [
    "train_and_cv(AdaBoostClassifier())"
   ]
  },
  {
   "cell_type": "code",
   "execution_count": 20,
   "metadata": {},
   "outputs": [
    {
     "name": "stdout",
     "output_type": "stream",
     "text": [
      "train score: 0.8371889178920433, cross-val score: 0.837215846197953\n"
     ]
    }
   ],
   "source": [
    "train_and_cv(AdaBoostClassifier(base_estimator=LogisticRegression()))"
   ]
  },
  {
   "cell_type": "markdown",
   "metadata": {},
   "source": [
    "#### 3.2.d. XGBoost"
   ]
  },
  {
   "cell_type": "code",
   "execution_count": 36,
   "metadata": {},
   "outputs": [
    {
     "name": "stdout",
     "output_type": "stream",
     "text": [
      "[0.83749578 0.8935804  0.99998882]\n",
      "[0.83613944 0.84893907 0.845271  ]\n"
     ]
    },
    {
     "data": {
      "image/png": "[encoded data removed]",
      "text/plain": [
       "<Figure size 432x288 with 1 Axes>"
      ]
     },
     "metadata": {
      "needs_background": "light"
     },
     "output_type": "display_data"
    }
   ],
   "source": [
    "tune_hyper(XGBClassifier(), 'xgboost', 'max_depth', range(1, 16, 5))"
   ]
  },
  {
   "cell_type": "code",
   "execution_count": 83,
   "metadata": {},
   "outputs": [
    {
     "name": "stdout",
     "output_type": "stream",
     "text": [
      "train score: 0.855356389931029, val score: 0.8352943490939791\n"
     ]
    }
   ],
   "source": [
    "train_and_cv(XGBClassifier(max_depth=6))"
   ]
  },
  {
   "cell_type": "markdown",
   "metadata": {},
   "source": [
    "### 3.3 Neural Network"
   ]
  },
  {
   "cell_type": "code",
   "execution_count": null,
   "metadata": {},
   "outputs": [],
   "source": [
    "mlp_gs = MLPClassifier()\n",
    "parameter_space = {\n",
    "    'hidden_layer_sizes': [(20,), (40,), (60,), (80,), (100,)],\n",
    "    'activation': ['tanh', 'relu', 'logistic'],\n",
    "    'solver': ['sgd', 'adam'],\n",
    "    'alpha': [0.0001, 0.05],\n",
    "    'learning_rate': ['constant','adaptive'],\n",
    "}\n",
    "\n",
    "clf = GridSearchCV(mlp_gs, parameter_space, n_jobs=-1, cv=3)\n",
    "clf.fit(train_X, train_Y) # X is train samples and y is the corresponding labels"
   ]
  },
  {
   "cell_type": "code",
   "execution_count": 34,
   "metadata": {},
   "outputs": [
    {
     "name": "stdout",
     "output_type": "stream",
     "text": [
      "train score: 0.892480635336887, cross-val score: 0.8434762086432569\n"
     ]
    }
   ],
   "source": [
    "train_and_cv(MLPClassifier())"
   ]
  },
  {
   "cell_type": "markdown",
   "metadata": {},
   "source": [
    "### Comparison of the models\n",
    "#### Baseline models\n",
    "\n",
    "| Model                    | Train Acc| CV Acc|\n",
    "| -----------              | ---------| ------|\n",
    "| LogReg(max_iter=500)     | 0.843    | 0.843 |\n",
    "| DecesionTree(max_depth=6)| 0.821    | 0.816 |"
   ]
  },
  {
   "cell_type": "markdown",
   "metadata": {},
   "source": [
    "#### Ensemble models\n",
    "\n",
    "| Model                        | Train Acc| CV Acc|\n",
    "| -----------                  | ---------| ------|\n",
    "| RandomForest(max_depth=6)    | 0.827    | 0.813 |\n",
    "| GradientBoosting(max_depth=6)| 0.846    | 0.837 |\n",
    "| AdaBoost(estimator=tree)     | 0.832    | 0.831 |\n",
    "| AdaBoost(estimator=logreg)   | 0.837    | 0.837 |\n",
    "| XGBoost(max_depth=6)         | 0.855    | 0.835 |"
   ]
  },
  {
   "cell_type": "markdown",
   "metadata": {},
   "source": [
    "#### Neural Network\n",
    "\n",
    "| Model                    | Train Acc| CV Acc|\n",
    "| -----------              | ---------| ------|\n",
    "| MLP                      | 0.838    | 0.846 |"
   ]
  },
  {
   "cell_type": "markdown",
   "metadata": {},
   "source": [
    "## 4. Predict"
   ]
  },
  {
   "cell_type": "code",
   "execution_count": null,
   "metadata": {},
   "outputs": [],
   "source": [
    "# TODO\n",
    "model = LogisticRegression()\n",
    "\n",
    "pred = model.predict(test_X)\n",
    "\n",
    "df_result = pd.DataFrame({'customer_ID': test_X.index.tolist(), 'prediction': pred})\n",
    "df_result.to_csv('../data/result.csv', index=False)"
   ]
  }
 ],
 "metadata": {
  "kernelspec": {
   "display_name": "Python 3.7.4 64-bit",
   "language": "python",
   "name": "python3"
  },
  "language_info": {
   "codemirror_mode": {
    "name": "ipython",
    "version": 3
   },
   "file_extension": ".py",
   "mimetype": "text/x-python",
   "name": "python",
   "nbconvert_exporter": "python",
   "pygments_lexer": "ipython3",
   "version": "3.7.4"
  },
  "orig_nbformat": 4,
  "vscode": {
   "interpreter": {
    "hash": "e774977668b7c0ae8309835a5187aa7fbf7669e7d0bb59755bc63e573643edcd"
   }
  }
 },
 "nbformat": 4,
 "nbformat_minor": 2
}
